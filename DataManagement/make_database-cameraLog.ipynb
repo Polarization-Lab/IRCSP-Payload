{
 "cells": [
  {
   "cell_type": "code",
   "execution_count": 27,
   "id": "5c0c9809",
   "metadata": {},
   "outputs": [],
   "source": [
    "import pandas as pd\n",
    "from SQL import create_db_connection, execute_query\n",
    "import matplotlib.pyplot as plt\n",
    "import h5py\n",
    "import datetime\n",
    "import numpy as np"
   ]
  },
  {
   "cell_type": "code",
   "execution_count": 28,
   "id": "897e3240",
   "metadata": {},
   "outputs": [],
   "source": [
    "#user_info\n",
    "pw = \"p0larizati0n\"\n",
    "user = \"root\"\n",
    "db = \"IRCSP\""
   ]
  },
  {
   "cell_type": "code",
   "execution_count": 29,
   "id": "2264eb4d",
   "metadata": {},
   "outputs": [
    {
     "name": "stdout",
     "output_type": "stream",
     "text": [
      "MySQL Database connection successful\n"
     ]
    }
   ],
   "source": [
    "#connect to IRCSP database\n",
    "connection = create_db_connection(\"localhost\", user, pw, db)"
   ]
  },
  {
   "cell_type": "code",
   "execution_count": 30,
   "id": "4696c135",
   "metadata": {},
   "outputs": [],
   "source": [
    "df_time = pd.read_csv(\"/Users/kirahart/Dropbox/camel.csv\",header = None)"
   ]
  },
  {
   "cell_type": "code",
   "execution_count": 8,
   "id": "47387190",
   "metadata": {},
   "outputs": [],
   "source": [
    "time = [];\n",
    "for i in range(len(df_time)):\n",
    "    t0 = datetime.datetime(2021,8,30,10,40,0)\n",
    "    delta = datetime.timedelta(seconds = int(df_time[0][i]))\n",
    "    t = t0+delta\n",
    "    time.append(t.strftime('%Y-%m-%d %H:%M:%S'))"
   ]
  },
  {
   "cell_type": "code",
   "execution_count": 236,
   "id": "0b27f007",
   "metadata": {},
   "outputs": [],
   "source": [
    "def make_telem_str(dataframe,index):\n",
    "    string = '(' + str(index) + ', '\n",
    "    string += str(dataframe[\"t_ircsp\"][index])+ ', '\n",
    "    string += str(dataframe[\"cam1_t\"][index])+ ', '\n",
    "    string += str(dataframe[\"cam2_t\"][index])+ ', '\n",
    "    string += str(dataframe[\"pressure\"][index])+ ', '\n",
    "    string += 'NULL,  '\n",
    "    string += str(dataframe[\"time\"][index])+ ', '\n",
    "    string += \"'\"+time[index] +  \"'\"+ ', '\n",
    "    string += str(dataframe[\"humidity\"][index])+ ', '\n",
    "    string += str(dataframe[\"acceleration\"][index])+ '),'\n",
    "    return(string)"
   ]
  },
  {
   "cell_type": "code",
   "execution_count": 11,
   "id": "c74728ea",
   "metadata": {},
   "outputs": [
    {
     "name": "stdout",
     "output_type": "stream",
     "text": [
      "67\n",
      "101\n",
      "119\n",
      "154\n",
      "191\n",
      "248\n",
      "291\n",
      "424\n",
      "471\n",
      "491\n",
      "580\n",
      "626\n",
      "675\n",
      "767\n",
      "881\n",
      "917\n",
      "950\n",
      "972\n",
      "991\n",
      "1081\n",
      "1107\n",
      "1161\n",
      "1194\n",
      "1211\n",
      "1243\n",
      "1280\n",
      "1365\n"
     ]
    }
   ],
   "source": [
    "t1s = []\n",
    "t2s = []\n",
    "inds = []\n",
    "for i in range(len(df_time)):\n",
    "    filename = \"/Volumes/KESU/image_data/\" + 'Capture'+str(i)+'.hdf5'\n",
    "    try:\n",
    "        with h5py.File(filename, \"r\") as file:\n",
    "             t1 = np.mean(file['temp1'][()])\n",
    "             t2 = np.mean(file['temp2'][()])\n",
    "        inds.append(i)\n",
    "        t1s.append(t1)\n",
    "        t2s.append(t2)\n",
    "    except:\n",
    "        print(i)\n",
    "    "
   ]
  },
  {
   "cell_type": "code",
   "execution_count": 32,
   "id": "e5cf0a13",
   "metadata": {},
   "outputs": [
    {
     "data": {
      "text/plain": [
       "2573"
      ]
     },
     "execution_count": 32,
     "metadata": {},
     "output_type": "execute_result"
    }
   ],
   "source": [
    "def make_telem_str(index):\n",
    "    string = '(' + str(index) + ', '\n",
    "    string += str(t1s[index])+ ', '\n",
    "    string += str(t2s[index])+  ', '\n",
    "    string += \"'\" + str(time[index])+ \"'\" +'),'\n",
    "    return(string)\n",
    "\n",
    "len(t1s)\n",
    "len(inds)"
   ]
  },
  {
   "cell_type": "code",
   "execution_count": 34,
   "id": "bfc3a05a",
   "metadata": {},
   "outputs": [],
   "source": [
    "def create_telem_query():\n",
    "    string = \"INSERT INTO cameraLog VALUES\";\n",
    "    for index in range(len(inds)):\n",
    "        string += make_telem_str(index)\n",
    "    string = string[:-1] + ';'\n",
    "    return(string)"
   ]
  },
  {
   "cell_type": "code",
   "execution_count": 35,
   "id": "4eb6e690",
   "metadata": {},
   "outputs": [
    {
     "name": "stdout",
     "output_type": "stream",
     "text": [
      "Query successful\n"
     ]
    }
   ],
   "source": [
    "query = create_telem_query()\n",
    "execute_query(connection, query)"
   ]
  },
  {
   "cell_type": "code",
   "execution_count": null,
   "id": "57d9ab63",
   "metadata": {},
   "outputs": [],
   "source": []
  }
 ],
 "metadata": {
  "kernelspec": {
   "display_name": "Python 3 (ipykernel)",
   "language": "python",
   "name": "python3"
  },
  "language_info": {
   "codemirror_mode": {
    "name": "ipython",
    "version": 3
   },
   "file_extension": ".py",
   "mimetype": "text/x-python",
   "name": "python",
   "nbconvert_exporter": "python",
   "pygments_lexer": "ipython3",
   "version": "3.7.11"
  }
 },
 "nbformat": 4,
 "nbformat_minor": 5
}
