{
 "cells": [
  {
   "cell_type": "code",
   "execution_count": 139,
   "id": "5c0c9809",
   "metadata": {},
   "outputs": [],
   "source": [
    "import pandas as pd\n",
    "from SQL import create_db_connection, execute_query\n",
    "import matplotlib.pyplot as plt\n",
    "import h5py\n",
    "import datetime\n",
    "import numpy as np"
   ]
  },
  {
   "cell_type": "code",
   "execution_count": 140,
   "id": "897e3240",
   "metadata": {},
   "outputs": [],
   "source": [
    "#user_info\n",
    "pw = \"p0larizati0n\"\n",
    "user = \"root\"\n",
    "db = \"balloon\""
   ]
  },
  {
   "cell_type": "code",
   "execution_count": 141,
   "id": "2264eb4d",
   "metadata": {},
   "outputs": [
    {
     "name": "stdout",
     "output_type": "stream",
     "text": [
      "MySQL Database connection successful\n"
     ]
    }
   ],
   "source": [
    "#connect to IRCSP database\n",
    "connection = create_db_connection(\"localhost\", user, pw, db)"
   ]
  },
  {
   "cell_type": "code",
   "execution_count": null,
   "id": "4696c135",
   "metadata": {},
   "outputs": [],
   "source": []
  }
 ],
 "metadata": {
  "kernelspec": {
   "display_name": "Python 3 (ipykernel)",
   "language": "python",
   "name": "python3"
  },
  "language_info": {
   "codemirror_mode": {
    "name": "ipython",
    "version": 3
   },
   "file_extension": ".py",
   "mimetype": "text/x-python",
   "name": "python",
   "nbconvert_exporter": "python",
   "pygments_lexer": "ipython3",
   "version": "3.7.11"
  }
 },
 "nbformat": 4,
 "nbformat_minor": 5
}
