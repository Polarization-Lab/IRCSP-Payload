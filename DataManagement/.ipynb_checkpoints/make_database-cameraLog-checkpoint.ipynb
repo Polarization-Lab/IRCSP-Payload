{
 "cells": [
  {
   "cell_type": "code",
   "execution_count": 192,
   "id": "5c0c9809",
   "metadata": {},
   "outputs": [],
   "source": [
    "import pandas as pd\n",
    "from SQL import create_db_connection, execute_query\n",
    "import matplotlib.pyplot as plt\n",
    "import h5py\n",
    "import datetime\n",
    "import numpy as np"
   ]
  },
  {
   "cell_type": "code",
   "execution_count": 193,
   "id": "897e3240",
   "metadata": {},
   "outputs": [],
   "source": [
    "#user_info\n",
    "pw = \"p0larizati0n\"\n",
    "user = \"root\"\n",
    "db = \"IRCSP\""
   ]
  },
  {
   "cell_type": "code",
   "execution_count": 194,
   "id": "2264eb4d",
   "metadata": {},
   "outputs": [
    {
     "name": "stdout",
     "output_type": "stream",
     "text": [
      "MySQL Database connection successful\n"
     ]
    }
   ],
   "source": [
    "#connect to IRCSP database\n",
    "connection = create_db_connection(\"localhost\", user, pw, db)"
   ]
  },
  {
   "cell_type": "code",
   "execution_count": 229,
   "id": "4696c135",
   "metadata": {},
   "outputs": [
    {
     "data": {
      "text/html": [
       "<div>\n",
       "<style scoped>\n",
       "    .dataframe tbody tr th:only-of-type {\n",
       "        vertical-align: middle;\n",
       "    }\n",
       "\n",
       "    .dataframe tbody tr th {\n",
       "        vertical-align: top;\n",
       "    }\n",
       "\n",
       "    .dataframe thead th {\n",
       "        text-align: right;\n",
       "    }\n",
       "</style>\n",
       "<table border=\"1\" class=\"dataframe\">\n",
       "  <thead>\n",
       "    <tr style=\"text-align: right;\">\n",
       "      <th></th>\n",
       "      <th>time</th>\n",
       "      <th>acceleration</th>\n",
       "      <th>t_sbc</th>\n",
       "      <th>t_ircsp</th>\n",
       "      <th>humidity</th>\n",
       "      <th>pressure</th>\n",
       "      <th>voltage</th>\n",
       "      <th>cam1_t</th>\n",
       "      <th>cam2_t</th>\n",
       "    </tr>\n",
       "  </thead>\n",
       "  <tbody>\n",
       "    <tr>\n",
       "      <th>0</th>\n",
       "      <td>1627078722</td>\n",
       "      <td>0.975586</td>\n",
       "      <td>1</td>\n",
       "      <td>22.31</td>\n",
       "      <td>20.99</td>\n",
       "      <td>876.19</td>\n",
       "      <td>4.65298</td>\n",
       "      <td>26.9</td>\n",
       "      <td>26.8</td>\n",
       "    </tr>\n",
       "    <tr>\n",
       "      <th>1</th>\n",
       "      <td>1627078735</td>\n",
       "      <td>0.967285</td>\n",
       "      <td>1</td>\n",
       "      <td>22.33</td>\n",
       "      <td>20.93</td>\n",
       "      <td>876.16</td>\n",
       "      <td>4.68231</td>\n",
       "      <td>26.9</td>\n",
       "      <td>26.8</td>\n",
       "    </tr>\n",
       "    <tr>\n",
       "      <th>2</th>\n",
       "      <td>1627078748</td>\n",
       "      <td>0.969727</td>\n",
       "      <td>1</td>\n",
       "      <td>22.31</td>\n",
       "      <td>20.90</td>\n",
       "      <td>876.16</td>\n",
       "      <td>4.70186</td>\n",
       "      <td>26.9</td>\n",
       "      <td>26.8</td>\n",
       "    </tr>\n",
       "    <tr>\n",
       "      <th>3</th>\n",
       "      <td>1627078763</td>\n",
       "      <td>0.973633</td>\n",
       "      <td>1</td>\n",
       "      <td>22.29</td>\n",
       "      <td>20.85</td>\n",
       "      <td>876.18</td>\n",
       "      <td>4.71163</td>\n",
       "      <td>26.9</td>\n",
       "      <td>26.8</td>\n",
       "    </tr>\n",
       "    <tr>\n",
       "      <th>4</th>\n",
       "      <td>1627078781</td>\n",
       "      <td>0.970703</td>\n",
       "      <td>1</td>\n",
       "      <td>22.27</td>\n",
       "      <td>20.82</td>\n",
       "      <td>876.22</td>\n",
       "      <td>4.70674</td>\n",
       "      <td>30.3</td>\n",
       "      <td>30.2</td>\n",
       "    </tr>\n",
       "    <tr>\n",
       "      <th>...</th>\n",
       "      <td>...</td>\n",
       "      <td>...</td>\n",
       "      <td>...</td>\n",
       "      <td>...</td>\n",
       "      <td>...</td>\n",
       "      <td>...</td>\n",
       "      <td>...</td>\n",
       "      <td>...</td>\n",
       "      <td>...</td>\n",
       "    </tr>\n",
       "    <tr>\n",
       "      <th>2086</th>\n",
       "      <td>1627092532</td>\n",
       "      <td>0.960938</td>\n",
       "      <td>1</td>\n",
       "      <td>39.22</td>\n",
       "      <td>11.11</td>\n",
       "      <td>8.67</td>\n",
       "      <td>5.00000</td>\n",
       "      <td>55.8</td>\n",
       "      <td>56.9</td>\n",
       "    </tr>\n",
       "    <tr>\n",
       "      <th>2087</th>\n",
       "      <td>1627092544</td>\n",
       "      <td>0.951172</td>\n",
       "      <td>1</td>\n",
       "      <td>39.25</td>\n",
       "      <td>11.08</td>\n",
       "      <td>8.63</td>\n",
       "      <td>5.00000</td>\n",
       "      <td>55.8</td>\n",
       "      <td>56.9</td>\n",
       "    </tr>\n",
       "    <tr>\n",
       "      <th>2088</th>\n",
       "      <td>1627092556</td>\n",
       "      <td>0.961914</td>\n",
       "      <td>1</td>\n",
       "      <td>39.26</td>\n",
       "      <td>11.06</td>\n",
       "      <td>8.63</td>\n",
       "      <td>5.00000</td>\n",
       "      <td>55.9</td>\n",
       "      <td>56.9</td>\n",
       "    </tr>\n",
       "    <tr>\n",
       "      <th>2089</th>\n",
       "      <td>1627092568</td>\n",
       "      <td>0.958008</td>\n",
       "      <td>1</td>\n",
       "      <td>39.28</td>\n",
       "      <td>11.03</td>\n",
       "      <td>8.66</td>\n",
       "      <td>5.00000</td>\n",
       "      <td>55.9</td>\n",
       "      <td>56.9</td>\n",
       "    </tr>\n",
       "    <tr>\n",
       "      <th>2090</th>\n",
       "      <td>1627092579</td>\n",
       "      <td>0.955566</td>\n",
       "      <td>1</td>\n",
       "      <td>39.30</td>\n",
       "      <td>11.01</td>\n",
       "      <td>8.64</td>\n",
       "      <td>5.00000</td>\n",
       "      <td>55.9</td>\n",
       "      <td>57.0</td>\n",
       "    </tr>\n",
       "  </tbody>\n",
       "</table>\n",
       "<p>2091 rows × 9 columns</p>\n",
       "</div>"
      ],
      "text/plain": [
       "            time  acceleration  t_sbc  t_ircsp  humidity  pressure  voltage  \\\n",
       "0     1627078722      0.975586      1    22.31     20.99    876.19  4.65298   \n",
       "1     1627078735      0.967285      1    22.33     20.93    876.16  4.68231   \n",
       "2     1627078748      0.969727      1    22.31     20.90    876.16  4.70186   \n",
       "3     1627078763      0.973633      1    22.29     20.85    876.18  4.71163   \n",
       "4     1627078781      0.970703      1    22.27     20.82    876.22  4.70674   \n",
       "...          ...           ...    ...      ...       ...       ...      ...   \n",
       "2086  1627092532      0.960938      1    39.22     11.11      8.67  5.00000   \n",
       "2087  1627092544      0.951172      1    39.25     11.08      8.63  5.00000   \n",
       "2088  1627092556      0.961914      1    39.26     11.06      8.63  5.00000   \n",
       "2089  1627092568      0.958008      1    39.28     11.03      8.66  5.00000   \n",
       "2090  1627092579      0.955566      1    39.30     11.01      8.64  5.00000   \n",
       "\n",
       "      cam1_t  cam2_t  \n",
       "0       26.9    26.8  \n",
       "1       26.9    26.8  \n",
       "2       26.9    26.8  \n",
       "3       26.9    26.8  \n",
       "4       30.3    30.2  \n",
       "...      ...     ...  \n",
       "2086    55.8    56.9  \n",
       "2087    55.8    56.9  \n",
       "2088    55.9    56.9  \n",
       "2089    55.9    56.9  \n",
       "2090    55.9    57.0  \n",
       "\n",
       "[2091 rows x 9 columns]"
      ]
     },
     "execution_count": 229,
     "metadata": {},
     "output_type": "execute_result"
    }
   ],
   "source": [
    "df = pd.read_csv(\"/Users/kirahart/Dropbox/telemetry.csv\")\n",
    "df_time = pd.read_csv(\"/Users/kirahart/Dropbox/tele_time.csv\",header = None)\n",
    "df"
   ]
  },
  {
   "cell_type": "code",
   "execution_count": 219,
   "id": "47387190",
   "metadata": {},
   "outputs": [],
   "source": [
    "time = [];\n",
    "for i in range(len(df_time)):\n",
    "    t0 = datetime.datetime(2021,8,30,10,40,0)\n",
    "    delta = datetime.timedelta(seconds = df_time[0][i]*60)\n",
    "    t = t0+delta\n",
    "    time.append(t.strftime('%Y-%m-%d %H:%M:%S'))"
   ]
  },
  {
   "cell_type": "code",
   "execution_count": 236,
   "id": "0b27f007",
   "metadata": {},
   "outputs": [],
   "source": [
    "def make_telem_str(dataframe,index):\n",
    "    string = '(' + str(index) + ', '\n",
    "    string += str(dataframe[\"t_ircsp\"][index])+ ', '\n",
    "    string += str(dataframe[\"cam1_t\"][index])+ ', '\n",
    "    string += str(dataframe[\"cam2_t\"][index])+ ', '\n",
    "    string += str(dataframe[\"pressure\"][index])+ ', '\n",
    "    string += 'NULL,  '\n",
    "    string += str(dataframe[\"time\"][index])+ ', '\n",
    "    string += \"'\"+time[index] +  \"'\"+ ', '\n",
    "    string += str(dataframe[\"humidity\"][index])+ ', '\n",
    "    string += str(dataframe[\"acceleration\"][index])+ '),'\n",
    "    return(string)"
   ]
  },
  {
   "cell_type": "code",
   "execution_count": 237,
   "id": "e5cf0a13",
   "metadata": {},
   "outputs": [],
   "source": [
    "def create_telem_query(dataframe):\n",
    "    string = \"INSERT INTO log VALUES\";\n",
    "    for index in range(len(dataframe)):\n",
    "        string += make_telem_str(dataframe,index)\n",
    "    string = string[:-1] + ';'\n",
    "    return(string)"
   ]
  },
  {
   "cell_type": "code",
   "execution_count": 238,
   "id": "4eb6e690",
   "metadata": {},
   "outputs": [
    {
     "name": "stdout",
     "output_type": "stream",
     "text": [
      "Query successful\n"
     ]
    }
   ],
   "source": [
    "query = create_telem_query(df)\n",
    "execute_query(connection, query)"
   ]
  },
  {
   "cell_type": "code",
   "execution_count": 235,
   "id": "1ce9d1b5",
   "metadata": {},
   "outputs": [
    {
     "data": {
      "text/plain": [
       "'(0, 22.31, 26.9, 26.8, 876.19, NULL,  1627078722, 2021-08-30 10:40:13, 20.99, 0.975586),'"
      ]
     },
     "execution_count": 235,
     "metadata": {},
     "output_type": "execute_result"
    }
   ],
   "source": [
    "make_telem_str(df,0)"
   ]
  },
  {
   "cell_type": "code",
   "execution_count": null,
   "id": "57d9ab63",
   "metadata": {},
   "outputs": [],
   "source": []
  }
 ],
 "metadata": {
  "kernelspec": {
   "display_name": "Python 3 (ipykernel)",
   "language": "python",
   "name": "python3"
  },
  "language_info": {
   "codemirror_mode": {
    "name": "ipython",
    "version": 3
   },
   "file_extension": ".py",
   "mimetype": "text/x-python",
   "name": "python",
   "nbconvert_exporter": "python",
   "pygments_lexer": "ipython3",
   "version": "3.7.11"
  }
 },
 "nbformat": 4,
 "nbformat_minor": 5
}
